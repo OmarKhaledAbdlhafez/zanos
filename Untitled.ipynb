{
 "cells": [
  {
   "cell_type": "code",
   "execution_count": 2,
   "id": "2316c9d6",
   "metadata": {},
   "outputs": [
    {
     "data": {
      "text/plain": [
       "'A'"
      ]
     },
     "execution_count": 2,
     "metadata": {},
     "output_type": "execute_result"
    }
   ],
   "source": [
    "s='a'\n",
    "s.upper()"
   ]
  },
  {
   "cell_type": "code",
   "execution_count": 11,
   "id": "6b583ed4",
   "metadata": {},
   "outputs": [
    {
     "data": {
      "text/plain": [
       "True"
      ]
     },
     "execution_count": 11,
     "metadata": {},
     "output_type": "execute_result"
    }
   ],
   "source": [
    "ord('A') == 65"
   ]
  },
  {
   "cell_type": "code",
   "execution_count": 21,
   "id": "5e166fec",
   "metadata": {
    "collapsed": true
   },
   "outputs": [],
   "source": [
    "class Person :\n",
    "    age = 15\n",
    "    def __init__(this , name):\n",
    "        this.name = name \n",
    "    def show(this):\n",
    "        print(this.name)\n",
    "        print(this.age)"
   ]
  },
  {
   "cell_type": "code",
   "execution_count": 22,
   "id": "c2a631c5",
   "metadata": {},
   "outputs": [],
   "source": [
    "p = Person('omar')"
   ]
  },
  {
   "cell_type": "code",
   "execution_count": 23,
   "id": "7e4e11f5",
   "metadata": {},
   "outputs": [
    {
     "name": "stdout",
     "output_type": "stream",
     "text": [
      "omar\n",
      "15\n"
     ]
    }
   ],
   "source": [
    "p.show()"
   ]
  },
  {
   "cell_type": "code",
   "execution_count": 14,
   "id": "ae57b488",
   "metadata": {
    "collapsed": true
   },
   "outputs": [],
   "source": [
    "p.age = 20"
   ]
  },
  {
   "cell_type": "code",
   "execution_count": 15,
   "id": "6d0833fa",
   "metadata": {},
   "outputs": [
    {
     "data": {
      "text/plain": [
       "20"
      ]
     },
     "execution_count": 15,
     "metadata": {},
     "output_type": "execute_result"
    }
   ],
   "source": [
    "p.age"
   ]
  },
  {
   "cell_type": "code",
   "execution_count": 16,
   "id": "9d9aab84",
   "metadata": {
    "collapsed": true
   },
   "outputs": [],
   "source": [
    "p2 = Person('jkj')"
   ]
  },
  {
   "cell_type": "code",
   "execution_count": 17,
   "id": "88b5bccd",
   "metadata": {},
   "outputs": [
    {
     "data": {
      "text/plain": [
       "15"
      ]
     },
     "execution_count": 17,
     "metadata": {},
     "output_type": "execute_result"
    }
   ],
   "source": [
    "p2.age"
   ]
  },
  {
   "cell_type": "code",
   "execution_count": null,
   "id": "fb2a367d",
   "metadata": {
    "collapsed": true
   },
   "outputs": [],
   "source": []
  }
 ],
 "metadata": {
  "kernelspec": {
   "display_name": "Python 3",
   "language": "python",
   "name": "python3"
  },
  "language_info": {
   "codemirror_mode": {
    "name": "ipython",
    "version": 3
   },
   "file_extension": ".py",
   "mimetype": "text/x-python",
   "name": "python",
   "nbconvert_exporter": "python",
   "pygments_lexer": "ipython3",
   "version": "3.6.2"
  }
 },
 "nbformat": 4,
 "nbformat_minor": 5
}
